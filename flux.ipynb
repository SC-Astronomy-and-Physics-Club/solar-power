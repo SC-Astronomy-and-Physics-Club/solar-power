{
 "cells": [
  {
   "cell_type": "markdown",
   "metadata": {},
   "source": [
    "# Solar Flux for the 21-cm Line\n",
    "Written by Austin Lake\n",
    "\n",
    "Saddleback College, Mission Viejo\n",
    "\n",
    "## Introduction\n",
    "This Jupyter Notebook calculates the expected solar flux at the 21-cm line, as observered from Saddleback College's 2-meter radio telescope\n",
    "\n",
    "## Method\n",
    "First, the radiance of the Sun at an estimated temperature of 5778 K, is dervied used Planck's Law of blackbody radiation. This derivation outputs units of Watts per meter-squared per sterradian [W/m^2/sr]. Because the Sun lies within the FOV of the telescope, the solid angle [sr] is calcuated from a point behind the radio telescope that propagates outward toward the Sun. The center axis of propagation passes through the both the center of the dish and the center of the Sun. Additionally, the outside edges of this solid angle form a tangent line on the edge of the dish and the meridian of the Sun that is perpendicular to the axis of propagation. The radiance from the blackbody model is then multiplied by the solid angle and the telescope's aperature area [m^2] to get the flux [W]. This is then converted to fit a logrithimic scale, resulting in units of decibel milliwatt [dBm]."
   ]
  },
  {
   "cell_type": "code",
   "execution_count": 2,
   "metadata": {},
   "outputs": [],
   "source": [
    "# dependencies\n",
    "from astropy import units as u\n",
    "from astropy.modeling.physical_models import BlackBody\n",
    "from astropy.constants import au, R_sun\n",
    "from astropy.visualization import quantity_support\n",
    "import numpy as np\n",
    "import matplotlib.pyplot as plt"
   ]
  },
  {
   "cell_type": "markdown",
   "metadata": {},
   "source": [
    "## Solid Angle Relationship\n",
    "![https://doi.org/10.1117/3.2315931.ch78](images/solid_angle.jpg)\n",
    "\n",
    "### Derving the Solid Angle of Our Dish and the Sun\n",
    "$\\Omega=\\frac{A}{x^2}, 0\\leq\\Omega\\leq 4\\pi$\n",
    "\n",
    "$\\Omega=\\frac{A_{sun}}{x^2}, A_{sun}=\\mathrm{source\\space area}, x=\\mathrm{distance\\space between\\space sun\\space and\\space dish}$\n",
    "\n",
    "$\\Omega=\\frac{A_{sun}}{X^2}=\\frac{2\\pi (r_{sun})^2}{x^2}=\\mathrm{\\frac{2\\pi (695700000.0\\space m)^2}{(149597870700.0\\space m)^2}=0.00013588547880587752\\space sr}$"
   ]
  },
  {
   "cell_type": "code",
   "execution_count": 3,
   "metadata": {},
   "outputs": [],
   "source": [
    "# calculate solid angle\n",
    "dishDiameter = 4.5*u.m # diameter of telescope (m)\n",
    "dishArea = (np.pi*(dishDiameter/2)**2) # area of the telescope's dish (m^2)\n",
    "solarArea = 2*np.pi*R_sun**2 # surface area of solar hemisphere facing dish\n",
    "solidAngle = (solarArea/(R_sun**2))*u.sr # solid angle (m)"
   ]
  },
  {
   "cell_type": "markdown",
   "metadata": {},
   "source": [
    "## Black Body Curve\n",
    "![https://webbtelescope.org/contents/media/images/01F8GF8WYBCQVKTGPX3MA58182](images/blackbody_curves.jpg)\n",
    "\n",
    "### Planck's Law of Blackbody Radiation\n",
    "\n",
    "$\\mathrm{specific intensity:\\space}B(v,t)=\\frac{2hv^3}{c^2}\\cdot\\frac{1}{\\frac{hv}{e^{k_BT}}-1}$\n",
    "\n",
    "$\\mathrm{flux\\space density = specific intensity\\cdot solid\\space angle}$\n",
    "\n",
    "$\\mathrm{1\\space W/m^2/Hz=10^26\\space Jy=10^24\\space sfu}$\n",
    "\n",
    "$\\mathrm{flux = flux\\space density\\cdot frequency}$\n",
    "\n",
    "$\\mathrm{power = flux\\cdot apeture}$\n",
    "\n",
    "$\\mathrm{1\\space W = 0\\space dBm\\space (logarithmic\\space scale)}$"
   ]
  },
  {
   "cell_type": "code",
   "execution_count": 4,
   "metadata": {},
   "outputs": [],
   "source": [
    "H1 = 1420405751.768*u.Hz # Hz\n",
    "temperature = 5778*u.K # temperature(K)\n",
    "scale = 1.0*u.W/u.m**2/u.sr/u.Hz # blackbody scale factor (W/m^2/sr/Hz)\n",
    "bb = BlackBody(temperature=temperature,scale=scale) # black body model\n",
    "H1specificIntensity = bb(H1) # specific intensity (W/m^2/sr/Hz)\n",
    "H1fluxDensity = H1specificIntensity*solidAngle # flux density (W/m^2/Hz)\n",
    "H1jansky = H1fluxDensity.to(u.Jy) # flux density (Jy)\n",
    "H1sfu = H1jansky.value*10e4 # spectral flux density (sfu)\n",
    "H1flux = H1fluxDensity*H1 # flux (W/m^2)\n",
    "H1power = H1flux*dishArea # power (W)\n",
    "H1powerDecibel = u.Decibel(H1power, u.DecibelUnit(u.mW)) # power (dBm)"
   ]
  },
  {
   "cell_type": "code",
   "execution_count": 5,
   "metadata": {},
   "outputs": [
    {
     "name": "stdout",
     "output_type": "stream",
     "text": [
      "Specific Intensity (W/m^2/sr/Hz):\t3.5815555594549246e-18 W / (Hz m2 sr)\n",
      "Flux Density (W/m^2/Hz):\t\t\t2.2503577268014545e-17 W / (Hz m2)\n",
      "Flux Density (Jy):\t\t\t\t\t2250357726.801454 Jy\n",
      "Flux Density (sfu):\t\t\t\t\t225035772680145.4 sfu\n",
      "Flux (W/m^2):\t\t\t\t\t\t3.196421058684347e-08 W / m2\n",
      "Power (W):\t\t\t\t\t\t\t5.083688038594618e-07 W\n",
      "Power (dBm):\t\t\t\t\t\t-32.93821107857174 dB(mW)\n"
     ]
    }
   ],
   "source": [
    "# display\n",
    "print(f'Specific Intensity (W/m^2/sr/Hz):\\t{H1specificIntensity}')\n",
    "print(f'Flux Density (W/m^2/Hz):\\t\\t\\t{H1fluxDensity}')\n",
    "print(f'Flux Density (Jy):\\t\\t\\t\\t\\t{H1jansky}')\n",
    "print(f'Flux Density (sfu):\\t\\t\\t\\t\\t{H1sfu} sfu')\n",
    "print(f'Flux (W/m^2):\\t\\t\\t\\t\\t\\t{H1flux}')\n",
    "print(f'Power (W):\\t\\t\\t\\t\\t\\t\\t{H1power}')\n",
    "print(f'Power (dBm):\\t\\t\\t\\t\\t\\t{H1powerDecibel}')\n"
   ]
  }
 ],
 "metadata": {
  "interpreter": {
   "hash": "a25105b9da4e5c3c2f11f582b453fbebfd8480a96a3dfdf9e9e9e9c45b29cb41"
  },
  "kernelspec": {
   "display_name": "Python 3.9.7 ('base')",
   "language": "python",
   "name": "python3"
  },
  "language_info": {
   "codemirror_mode": {
    "name": "ipython",
    "version": 3
   },
   "file_extension": ".py",
   "mimetype": "text/x-python",
   "name": "python",
   "nbconvert_exporter": "python",
   "pygments_lexer": "ipython3",
   "version": "3.8.12"
  },
  "orig_nbformat": 4
 },
 "nbformat": 4,
 "nbformat_minor": 2
}
