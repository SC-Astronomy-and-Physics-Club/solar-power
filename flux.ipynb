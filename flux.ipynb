{
 "cells": [
  {
   "cell_type": "markdown",
   "metadata": {},
   "source": [
    "# Solar Flux for the 21-cm Line\n",
    "Written by Austin Lake\n",
    "\n",
    "Saddleback College, Mission Viejo\n",
    "\n",
    "## Introduction\n",
    "This Jupyter Notebook calculates the expected solar flux at the 21-cm line, as observered from Saddleback College's 2-meter radio telescope\n",
    "\n",
    "## Method\n",
    "First, the radiance of the Sun at an estimated temperature of 5778 K, is dervied used Planck's Law of blackbody radiation. This derivation outputs units of Watts per meter-squared per sterradian [W/m^2/sr]. Because the Sun lies within the FOV of the telescope, the solid angle [sr] is calcuated from a point behind the radio telescope that propagates outward toward the Sun. The center axis of propagation passes through the both the center of the dish and the center of the Sun. Additionally, the outside edges of this solid angle form a tangent line on the edge of the dish and the meridian of the Sun that is perpendicular to the axis of propagation. The radiance from the blackbody model is then multiplied by the solid angle and the telescope's aperature area [m^2] to get the flux [W]. This is then converted to fit a logrithimic scale, resulting in units of decibel milliwatt [dBm]."
   ]
  },
  {
   "cell_type": "code",
   "execution_count": 1,
   "metadata": {},
   "outputs": [],
   "source": [
    "# dependencies\n",
    "from astropy import units as u\n",
    "from astropy.modeling.physical_models import BlackBody\n",
    "from astropy.constants import au, R_sun\n",
    "import numpy as np"
   ]
  },
  {
   "cell_type": "markdown",
   "metadata": {},
   "source": [
    "## Solid Angle Relationship\n",
    "![](solidAngle.png)\n",
    "\n",
    "### Derving the Solid Angle of Our Dish and the Sun\n",
    "$\\Omega=\\frac{A}{r^2}, 0\\leq\\Omega\\leq 4\\pi, r=\\mathrm{radial\\space distance}$\n",
    "\n",
    "$\\Omega=\\frac{A_{dish}}{X^2}, A_{dish}=\\mathrm{apeture}, X=\\mathrm{radial\\space distance\\space to\\space dish}$\n",
    "\n",
    "$\\Omega=\\frac{A_{sun}}{(au + X)^2}, A_{sun}=\\mathrm{hemisphere\\space of\\space Sun\\space facing\\space dish}$\n",
    "\n",
    "$\\frac{X^2}{A_{dish}}=\\frac{(au+X)^2}{A_{sun}}$\n",
    "\n",
    "$\\frac{X^2}{A_{dish}}=\\frac{\\mathrm{(au)^2+2au(X)+X^2}}{\\mathrm{A_{sun}}}$\n",
    "\n",
    "$(\\frac{1}{A_{dish}}-\\frac{1}{A_{sun}})x^2-\\frac{2au}{A_{sun}}X-\\frac{(au)^2}{A_{sun}}=0$\n",
    "\n",
    "$a=\\frac{1}{A_{dish}}-\\frac{1}{A_{sun}}=\\frac{1}{2\\pi (D_{dish})^2}-\\frac{1}{2\\pi ((r_{sun})/2)^2}=\\frac{1}{\\pi ((4.5\\space m)/2)^2}-\\frac{1}{2\\pi (695700000.0\\space m)^2}=0.06287602690050187$\n",
    "\n",
    "$b=-\\frac{2au}{A_{sun}}=\\frac{2au}{2\\pi (r_{sun})^2}=\\frac{149597870700.0\\space m}{\\pi (695700000.0\\space m)^2}=-1.967711973475555E-07$\n",
    "\n",
    "$c=-\\frac{(au)^2}{A_{sun}}=\\frac{(au)^2}{2\\pi (r_{sun})^2}=\\frac{(149597870700.0\\space m)^2}{2\\pi (695700000.0\\space m)^2}=-14718.276069141897$\n",
    "\n",
    "$X=\\frac{-b+\\sqrt{b^2-4ac}}{a^2}=\\frac{-(-1.967711973475555E-07)+\\sqrt{(-1.967711973475555E-07)^2-4(0.06287602690050187)(-14718.276069141897)}}{(0.06287602690050187)^2}=\\mathrm{483.82235182348757\\space m}$\n",
    "\n",
    "$\\Omega=\\frac{A_{dish}}{X^2}=\\frac{\\pi (D_{dish}/2)^2}{X^2}=\\mathrm{\\frac{\\pi (4.5\\space m/2)^2}{(483.82235182348757\\space m)^2}=0.00013588547880587752\\space sr}$\n",
    "\n",
    "\n"
   ]
  },
  {
   "cell_type": "code",
   "execution_count": 2,
   "metadata": {},
   "outputs": [],
   "source": [
    "# calculate solid angle\n",
    "dishDiameter = 4.5*u.m # diameter of telescope (m)\n",
    "dishArea = (np.pi*(dishDiameter/2)**2) # area of the telescope's dish (m^2)\n",
    "solarArea = 2*np.pi*R_sun**2 # surface area of solar hemisphere facing dish\n",
    "a = ((1/dishArea)-(1/solarArea)).value # second order coeffecient\n",
    "b = -(2*au/solarArea).value # first order coefficent\n",
    "c = -(au**2/solarArea).value # zeroeth order coefficent\n",
    "x = ((0-b+np.sqrt(b**2-4*a*c))/(2*a))*u.m # distance from dish to origin of solid angle (m)\n",
    "solidAngle = (dishArea/(x**2))*u.sr # solid angle (m)"
   ]
  },
  {
   "cell_type": "markdown",
   "metadata": {},
   "source": [
    "## Black Body Curve\n",
    "![](blackbody_curves.png)\n",
    "\n",
    "### Planck's Law of Blackbody Radiation\n",
    "\n",
    "$\\mathrm{radiance:\\space}B(v,t)=\\frac{2hv^3}{c^2}\\cdot\\frac{1}{\\frac{hv}{e^{k_BT}}-1}$\n",
    "\n",
    "$\\mathrm{flux\\space density = radiance\\cdot solid\\space angle}$\n",
    "\n",
    "$\\mathrm{spectral\\space flux\\space density=\\frac{flux\\space density}{frequency}}$\n",
    "\n",
    "$\\mathrm{1\\space W/m^2/Hz=10^26\\space Jy=10^24\\space sfu}$\n",
    "\n",
    "$\\mathrm{flux= flux\\space density\\cdot apeture}$\n",
    "\n",
    "$\\mathrm{1\\space W = 0\\space dBm\\space (logarithmic\\space scale)}$"
   ]
  },
  {
   "cell_type": "code",
   "execution_count": 3,
   "metadata": {},
   "outputs": [],
   "source": [
    "H1 = 1420405751.768*u.Hz # Hz\n",
    "temperature = 5778*u.K # temperature(K)\n",
    "scale = 1.0*u.W/u.m**2/u.sr # blackbody scale factor (W/m^2/sr)\n",
    "solarModel = BlackBody(temperature=temperature,scale=scale) # black body model\n",
    "radiance = solarModel(H1) # solar radiance (W/m^2/sr)\n",
    "fluxDensity = radiance*solidAngle # flux density (W/m^2)\n",
    "spectralFluxDensity = fluxDensity/H1 # spectral flux density (W/m^2/Hz)\n",
    "jansky = spectralFluxDensity.to(u.Jy) # spectral flux density (Jy)\n",
    "sfu = jansky.value*10e4 # spectral flux density (sfu)\n",
    "flux = fluxDensity*dishArea # flux (W)\n",
    "flux_dBm = u.Decibel(flux, u.DecibelUnit(u.mW)) # solar flux (dBm)"
   ]
  },
  {
   "cell_type": "code",
   "execution_count": 4,
   "metadata": {},
   "outputs": [
    {
     "name": "stdout",
     "output_type": "stream",
     "text": [
      "Solid angle (sr):\t\t\t\t\t\t0.00013588547880587752 sr\n",
      "Flux (W):\t\t\t\t\t\t\t1.0994413652495469e-11 W\n",
      "Flux (dBm):\t\t\t\t\t\t\t-79.588279272196 dB(mW)\n",
      "Flux Density (W/m^2):\t\t\t\t6.912850485695501e-13 W / m2\n",
      "Spectral Flux Desnity (W/m^2/Hz):\t4.866813920663849e-22 W / (Hz m2)\n",
      "Spectral Flux Density (Jy):\t\t\t48668.13920663848 Jy\n",
      "Spectral Flux Density (sfu):\t\t\t4866813920.663848 sfu\n"
     ]
    }
   ],
   "source": [
    "# display \n",
    "print(f'Solid angle (sr):\\t\\t\\t\\t\\t\\t{solidAngle}')\n",
    "print(f'Flux (W):\\t\\t\\t\\t\\t\\t\\t{flux}')\n",
    "print(f'Flux (dBm):\\t\\t\\t\\t\\t\\t\\t{flux_dBm}')\n",
    "print(f'Flux Density (W/m^2):\\t\\t\\t\\t{fluxDensity}')\n",
    "print(f'Spectral Flux Desnity (W/m^2/Hz):\\t{spectralFluxDensity}')\n",
    "print(f'Spectral Flux Density (Jy):\\t\\t\\t{jansky}')\n",
    "print(f'Spectral Flux Density (sfu):\\t\\t\\t{sfu} sfu')\n"
   ]
  },
  {
   "cell_type": "code",
   "execution_count": null,
   "metadata": {},
   "outputs": [],
   "source": []
  }
 ],
 "metadata": {
  "interpreter": {
   "hash": "a25105b9da4e5c3c2f11f582b453fbebfd8480a96a3dfdf9e9e9e9c45b29cb41"
  },
  "kernelspec": {
   "display_name": "Python 3.9.7 ('base')",
   "language": "python",
   "name": "python3"
  },
  "language_info": {
   "codemirror_mode": {
    "name": "ipython",
    "version": 3
   },
   "file_extension": ".py",
   "mimetype": "text/x-python",
   "name": "python",
   "nbconvert_exporter": "python",
   "pygments_lexer": "ipython3",
   "version": "3.9.10"
  },
  "orig_nbformat": 4
 },
 "nbformat": 4,
 "nbformat_minor": 2
}
